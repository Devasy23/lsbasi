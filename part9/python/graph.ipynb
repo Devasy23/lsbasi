{
 "cells": [
  {
   "cell_type": "code",
   "execution_count": 3,
   "metadata": {},
   "outputs": [],
   "source": [
    "import graphviz\n",
    "gobj = graphviz.Source.from_file('ast.dot')"
   ]
  },
  {
   "cell_type": "code",
   "execution_count": 6,
   "metadata": {},
   "outputs": [
    {
     "ename": "AttributeError",
     "evalue": "'Source' object has no attribute 'is_directed'",
     "output_type": "error",
     "traceback": [
      "\u001b[0;31m---------------------------------------------------------------------------\u001b[0m",
      "\u001b[0;31mAttributeError\u001b[0m                            Traceback (most recent call last)",
      "\u001b[1;32m/workspaces/lsbasi/part9/python/graph.ipynb Cell 2\u001b[0m line \u001b[0;36m6\n\u001b[1;32m      <a href='vscode-notebook-cell://codespaces%2Beffective-computing-machine-9r5qxx774x737wq/workspaces/lsbasi/part9/python/graph.ipynb#W1sdnNjb2RlLXJlbW90ZQ%3D%3D?line=1'>2</a>\u001b[0m \u001b[39mimport\u001b[39;00m \u001b[39mnetworkx\u001b[39;00m \u001b[39mas\u001b[39;00m \u001b[39mnx\u001b[39;00m\n\u001b[1;32m      <a href='vscode-notebook-cell://codespaces%2Beffective-computing-machine-9r5qxx774x737wq/workspaces/lsbasi/part9/python/graph.ipynb#W1sdnNjb2RlLXJlbW90ZQ%3D%3D?line=2'>3</a>\u001b[0m \u001b[39m# import pygraphviz as pgv\u001b[39;00m\n\u001b[1;32m      <a href='vscode-notebook-cell://codespaces%2Beffective-computing-machine-9r5qxx774x737wq/workspaces/lsbasi/part9/python/graph.ipynb#W1sdnNjb2RlLXJlbW90ZQ%3D%3D?line=3'>4</a>\u001b[0m \n\u001b[1;32m      <a href='vscode-notebook-cell://codespaces%2Beffective-computing-machine-9r5qxx774x737wq/workspaces/lsbasi/part9/python/graph.ipynb#W1sdnNjb2RlLXJlbW90ZQ%3D%3D?line=4'>5</a>\u001b[0m \u001b[39m# Assuming 'g' is your Graphviz object\u001b[39;00m\n\u001b[0;32m----> <a href='vscode-notebook-cell://codespaces%2Beffective-computing-machine-9r5qxx774x737wq/workspaces/lsbasi/part9/python/graph.ipynb#W1sdnNjb2RlLXJlbW90ZQ%3D%3D?line=5'>6</a>\u001b[0m A \u001b[39m=\u001b[39m nx\u001b[39m.\u001b[39;49mnx_agraph\u001b[39m.\u001b[39;49mfrom_agraph(gobj)\n",
      "File \u001b[0;32m~/.local/lib/python3.10/site-packages/networkx/drawing/nx_agraph.py:68\u001b[0m, in \u001b[0;36mfrom_agraph\u001b[0;34m(A, create_using)\u001b[0m\n\u001b[1;32m     37\u001b[0m \u001b[39m\u001b[39m\u001b[39m\"\"\"Returns a NetworkX Graph or DiGraph from a PyGraphviz graph.\u001b[39;00m\n\u001b[1;32m     38\u001b[0m \n\u001b[1;32m     39\u001b[0m \u001b[39mParameters\u001b[39;00m\n\u001b[0;32m   (...)\u001b[0m\n\u001b[1;32m     65\u001b[0m \n\u001b[1;32m     66\u001b[0m \u001b[39m\"\"\"\u001b[39;00m\n\u001b[1;32m     67\u001b[0m \u001b[39mif\u001b[39;00m create_using \u001b[39mis\u001b[39;00m \u001b[39mNone\u001b[39;00m:\n\u001b[0;32m---> 68\u001b[0m     \u001b[39mif\u001b[39;00m A\u001b[39m.\u001b[39;49mis_directed():\n\u001b[1;32m     69\u001b[0m         \u001b[39mif\u001b[39;00m A\u001b[39m.\u001b[39mis_strict():\n\u001b[1;32m     70\u001b[0m             create_using \u001b[39m=\u001b[39m nx\u001b[39m.\u001b[39mDiGraph\n",
      "\u001b[0;31mAttributeError\u001b[0m: 'Source' object has no attribute 'is_directed'"
     ]
    }
   ],
   "source": [
    "import plotly.graph_objects as go\n",
    "import networkx as nx\n",
    "# import pygraphviz as pgv\n",
    "\n",
    "# Assuming 'g' is your Graphviz object\n",
    "A = nx.nx_agraph.from_agraph(gobj)"
   ]
  }
 ],
 "metadata": {
  "kernelspec": {
   "display_name": "Python 3",
   "language": "python",
   "name": "python3"
  },
  "language_info": {
   "codemirror_mode": {
    "name": "ipython",
    "version": 3
   },
   "file_extension": ".py",
   "mimetype": "text/x-python",
   "name": "python",
   "nbconvert_exporter": "python",
   "pygments_lexer": "ipython3",
   "version": "3.10.8"
  }
 },
 "nbformat": 4,
 "nbformat_minor": 2
}
